{
 "cells": [
  {
   "cell_type": "code",
   "execution_count": 1,
   "id": "b2db7022",
   "metadata": {},
   "outputs": [],
   "source": [
    "import yfinance as yf\n",
    "\n",
    "def getData(symbol, data):\n",
    "    ticker = yf.Ticker(symbol)\n",
    "    histData = ticker.history(period='5y')\n",
    "    return histData[data][:-360]\n",
    "\n",
    "price = getData(\"PTT.BK\", \"Close\")\n",
    "volume = getData(\"PTT.BK\", \"Volume\")"
   ]
  },
  {
   "cell_type": "code",
   "execution_count": 2,
   "id": "87c52d59",
   "metadata": {},
   "outputs": [
    {
     "data": {
      "text/plain": [
       "Date\n",
       "2017-04-04    31.940359\n",
       "2017-04-05    31.777393\n",
       "2017-04-07    31.940359\n",
       "2017-04-10    32.184795\n",
       "2017-04-11    32.103321\n",
       "                ...    \n",
       "2020-10-01    30.750196\n",
       "2020-10-02    30.051325\n",
       "2020-10-05    30.051325\n",
       "2020-10-06    30.750196\n",
       "2020-10-07    30.750196\n",
       "Name: Close, Length: 857, dtype: float64"
      ]
     },
     "execution_count": 2,
     "metadata": {},
     "output_type": "execute_result"
    }
   ],
   "source": [
    "price"
   ]
  },
  {
   "cell_type": "code",
   "execution_count": 3,
   "id": "f602a8df",
   "metadata": {},
   "outputs": [],
   "source": [
    "import numpy as np\n",
    "from sklearn.preprocessing import MinMaxScaler\n",
    "scaler=MinMaxScaler(feature_range=(0,1))\n",
    "df1=scaler.fit_transform(np.array(price).reshape(-1,1))\n",
    "\n",
    "scalerPrice = MinMaxScaler(feature_range= (0,1))\n",
    "scalerVolume = MinMaxScaler(feature_range= (0,1))\n",
    "\n",
    "df1 = scalerPrice.fit_transform(np.array(price).reshape(-1,1))\n",
    "df2 = scalerVolume.fit_transform(np.array(volume).reshape(-1,1))"
   ]
  },
  {
   "cell_type": "code",
   "execution_count": 4,
   "id": "fdc52dbe",
   "metadata": {},
   "outputs": [],
   "source": [
    "def splitData(df):\n",
    "    trainingSize = int(len(df)*0.65)\n",
    "    testSize = len(df)-trainingSize\n",
    "    trainData, testData = df[0:trainingSize,:], df[trainingSize:len(df),:1]\n",
    "    return trainData, testData\n",
    "\n",
    "df1TrainData, df1TestData = splitData(df1)\n",
    "df2TrainData, df2TestData = splitData(df2)"
   ]
  },
  {
   "cell_type": "code",
   "execution_count": 5,
   "id": "27f15de1",
   "metadata": {},
   "outputs": [],
   "source": [
    "def create_dataset(dataset, time_step):\n",
    "    dataX, dataY = [], []\n",
    "    for i in range(len(dataset)-time_step-1):\n",
    "        a = dataset[i:(i+time_step), 0]   \n",
    "        dataX.append(a)\n",
    "        dataY.append(dataset[i + time_step, 0])\n",
    "    return np.array(dataX), np.array(dataY)\n",
    "\n",
    "df1XTrain, df1YTrain = create_dataset(df1TrainData, 100)\n",
    "df1XTest, df1YTest = create_dataset(df1TestData, 100)\n",
    "\n",
    "df2XTrain, df2YTrain = create_dataset(df2TrainData, 100)\n",
    "df2XTest, df2YTest = create_dataset(df2TestData, 100)"
   ]
  },
  {
   "cell_type": "code",
   "execution_count": 6,
   "id": "b92ff7dd",
   "metadata": {},
   "outputs": [],
   "source": [
    "from tensorflow.keras.models import Sequential\n",
    "from tensorflow.keras.layers import Dense\n",
    "from tensorflow.keras.layers import LSTM\n",
    "\n",
    "priceModel=Sequential()\n",
    "priceModel.add(LSTM(50,return_sequences=True,input_shape=(100,1)))\n",
    "priceModel.add(LSTM(50,return_sequences=True))\n",
    "priceModel.add(LSTM(50))\n",
    "priceModel.add(Dense(1))\n",
    "priceModel.compile(loss='mean_squared_error',optimizer='adam')\n",
    "\n",
    "volumeModel=Sequential()\n",
    "volumeModel.add(LSTM(50,return_sequences=True,input_shape=(100,1)))\n",
    "volumeModel.add(LSTM(50,return_sequences=True))\n",
    "volumeModel.add(LSTM(50))\n",
    "volumeModel.add(Dense(1))\n",
    "volumeModel.compile(loss='mean_squared_error',optimizer='adam')"
   ]
  },
  {
   "cell_type": "code",
   "execution_count": 7,
   "id": "46648543",
   "metadata": {},
   "outputs": [
    {
     "name": "stdout",
     "output_type": "stream",
     "text": [
      "Model: \"sequential\"\n",
      "_________________________________________________________________\n",
      " Layer (type)                Output Shape              Param #   \n",
      "=================================================================\n",
      " lstm (LSTM)                 (None, 100, 50)           10400     \n",
      "                                                                 \n",
      " lstm_1 (LSTM)               (None, 100, 50)           20200     \n",
      "                                                                 \n",
      " lstm_2 (LSTM)               (None, 50)                20200     \n",
      "                                                                 \n",
      " dense (Dense)               (None, 1)                 51        \n",
      "                                                                 \n",
      "=================================================================\n",
      "Total params: 50,851\n",
      "Trainable params: 50,851\n",
      "Non-trainable params: 0\n",
      "_________________________________________________________________\n"
     ]
    }
   ],
   "source": [
    "priceModel.summary()"
   ]
  },
  {
   "cell_type": "code",
   "execution_count": 8,
   "id": "e74cc8ea",
   "metadata": {},
   "outputs": [
    {
     "name": "stdout",
     "output_type": "stream",
     "text": [
      "Model: \"sequential_1\"\n",
      "_________________________________________________________________\n",
      " Layer (type)                Output Shape              Param #   \n",
      "=================================================================\n",
      " lstm_3 (LSTM)               (None, 100, 50)           10400     \n",
      "                                                                 \n",
      " lstm_4 (LSTM)               (None, 100, 50)           20200     \n",
      "                                                                 \n",
      " lstm_5 (LSTM)               (None, 50)                20200     \n",
      "                                                                 \n",
      " dense_1 (Dense)             (None, 1)                 51        \n",
      "                                                                 \n",
      "=================================================================\n",
      "Total params: 50,851\n",
      "Trainable params: 50,851\n",
      "Non-trainable params: 0\n",
      "_________________________________________________________________\n"
     ]
    }
   ],
   "source": [
    "volumeModel.summary()"
   ]
  },
  {
   "cell_type": "code",
   "execution_count": 9,
   "id": "9a78945a",
   "metadata": {
    "scrolled": true
   },
   "outputs": [
    {
     "name": "stdout",
     "output_type": "stream",
     "text": [
      "Epoch 1/100\n",
      "8/8 [==============================] - 4s 185ms/step - loss: 0.2623 - val_loss: 0.0797\n",
      "Epoch 2/100\n",
      "8/8 [==============================] - 1s 91ms/step - loss: 0.0338 - val_loss: 0.0141\n",
      "Epoch 3/100\n",
      "8/8 [==============================] - 1s 88ms/step - loss: 0.0171 - val_loss: 0.0299\n",
      "Epoch 4/100\n",
      "8/8 [==============================] - 1s 87ms/step - loss: 0.0097 - val_loss: 0.0297\n",
      "Epoch 5/100\n",
      "8/8 [==============================] - 1s 86ms/step - loss: 0.0066 - val_loss: 0.0192\n",
      "Epoch 6/100\n",
      "8/8 [==============================] - 1s 87ms/step - loss: 0.0056 - val_loss: 0.0305\n",
      "Epoch 7/100\n",
      "8/8 [==============================] - 1s 87ms/step - loss: 0.0048 - val_loss: 0.0204\n",
      "Epoch 8/100\n",
      "8/8 [==============================] - 1s 86ms/step - loss: 0.0045 - val_loss: 0.0253\n",
      "Epoch 9/100\n",
      "8/8 [==============================] - 1s 89ms/step - loss: 0.0043 - val_loss: 0.0202\n",
      "Epoch 10/100\n",
      "8/8 [==============================] - 1s 88ms/step - loss: 0.0040 - val_loss: 0.0208\n",
      "Epoch 11/100\n",
      "8/8 [==============================] - 1s 86ms/step - loss: 0.0038 - val_loss: 0.0194\n",
      "Epoch 12/100\n",
      "8/8 [==============================] - 1s 87ms/step - loss: 0.0037 - val_loss: 0.0182\n",
      "Epoch 13/100\n",
      "8/8 [==============================] - 1s 88ms/step - loss: 0.0035 - val_loss: 0.0166\n",
      "Epoch 14/100\n",
      "8/8 [==============================] - 1s 87ms/step - loss: 0.0035 - val_loss: 0.0180\n",
      "Epoch 15/100\n",
      "8/8 [==============================] - 1s 86ms/step - loss: 0.0034 - val_loss: 0.0161\n",
      "Epoch 16/100\n",
      "8/8 [==============================] - 1s 89ms/step - loss: 0.0034 - val_loss: 0.0150\n",
      "Epoch 17/100\n",
      "8/8 [==============================] - 1s 85ms/step - loss: 0.0033 - val_loss: 0.0148\n",
      "Epoch 18/100\n",
      "8/8 [==============================] - 1s 86ms/step - loss: 0.0033 - val_loss: 0.0157\n",
      "Epoch 19/100\n",
      "8/8 [==============================] - 1s 86ms/step - loss: 0.0032 - val_loss: 0.0139\n",
      "Epoch 20/100\n",
      "8/8 [==============================] - 1s 88ms/step - loss: 0.0035 - val_loss: 0.0162\n",
      "Epoch 21/100\n",
      "8/8 [==============================] - 1s 90ms/step - loss: 0.0033 - val_loss: 0.0147\n",
      "Epoch 22/100\n",
      "8/8 [==============================] - 1s 87ms/step - loss: 0.0032 - val_loss: 0.0141\n",
      "Epoch 23/100\n",
      "8/8 [==============================] - 1s 89ms/step - loss: 0.0031 - val_loss: 0.0146\n",
      "Epoch 24/100\n",
      "8/8 [==============================] - 1s 88ms/step - loss: 0.0031 - val_loss: 0.0149\n",
      "Epoch 25/100\n",
      "8/8 [==============================] - 1s 85ms/step - loss: 0.0030 - val_loss: 0.0137\n",
      "Epoch 26/100\n",
      "8/8 [==============================] - 1s 88ms/step - loss: 0.0030 - val_loss: 0.0132\n",
      "Epoch 27/100\n",
      "8/8 [==============================] - 1s 87ms/step - loss: 0.0030 - val_loss: 0.0122\n",
      "Epoch 28/100\n",
      "8/8 [==============================] - 1s 86ms/step - loss: 0.0031 - val_loss: 0.0137\n",
      "Epoch 29/100\n",
      "8/8 [==============================] - 1s 89ms/step - loss: 0.0028 - val_loss: 0.0134\n",
      "Epoch 30/100\n",
      "8/8 [==============================] - 1s 87ms/step - loss: 0.0028 - val_loss: 0.0131\n",
      "Epoch 31/100\n",
      "8/8 [==============================] - 1s 88ms/step - loss: 0.0028 - val_loss: 0.0136\n",
      "Epoch 32/100\n",
      "8/8 [==============================] - 1s 87ms/step - loss: 0.0027 - val_loss: 0.0132\n",
      "Epoch 33/100\n",
      "8/8 [==============================] - 1s 88ms/step - loss: 0.0032 - val_loss: 0.0147\n",
      "Epoch 34/100\n",
      "8/8 [==============================] - 1s 86ms/step - loss: 0.0036 - val_loss: 0.0125\n",
      "Epoch 35/100\n",
      "8/8 [==============================] - 1s 87ms/step - loss: 0.0029 - val_loss: 0.0132\n",
      "Epoch 36/100\n",
      "8/8 [==============================] - 1s 86ms/step - loss: 0.0031 - val_loss: 0.0123\n",
      "Epoch 37/100\n",
      "8/8 [==============================] - 1s 86ms/step - loss: 0.0029 - val_loss: 0.0120\n",
      "Epoch 38/100\n",
      "8/8 [==============================] - 1s 85ms/step - loss: 0.0027 - val_loss: 0.0127\n",
      "Epoch 39/100\n",
      "8/8 [==============================] - 1s 86ms/step - loss: 0.0028 - val_loss: 0.0120\n",
      "Epoch 40/100\n",
      "8/8 [==============================] - 1s 86ms/step - loss: 0.0025 - val_loss: 0.0143\n",
      "Epoch 41/100\n",
      "8/8 [==============================] - 1s 86ms/step - loss: 0.0029 - val_loss: 0.0122\n",
      "Epoch 42/100\n",
      "8/8 [==============================] - 1s 89ms/step - loss: 0.0026 - val_loss: 0.0117\n",
      "Epoch 43/100\n",
      "8/8 [==============================] - 1s 85ms/step - loss: 0.0024 - val_loss: 0.0115\n",
      "Epoch 44/100\n",
      "8/8 [==============================] - 1s 87ms/step - loss: 0.0024 - val_loss: 0.0113\n",
      "Epoch 45/100\n",
      "8/8 [==============================] - 1s 87ms/step - loss: 0.0025 - val_loss: 0.0103\n",
      "Epoch 46/100\n",
      "8/8 [==============================] - 1s 85ms/step - loss: 0.0025 - val_loss: 0.0100\n",
      "Epoch 47/100\n",
      "8/8 [==============================] - 1s 86ms/step - loss: 0.0026 - val_loss: 0.0121\n",
      "Epoch 48/100\n",
      "8/8 [==============================] - 1s 87ms/step - loss: 0.0025 - val_loss: 0.0134\n",
      "Epoch 49/100\n",
      "8/8 [==============================] - 1s 85ms/step - loss: 0.0026 - val_loss: 0.0132\n",
      "Epoch 50/100\n",
      "8/8 [==============================] - 1s 86ms/step - loss: 0.0030 - val_loss: 0.0119\n",
      "Epoch 51/100\n",
      "8/8 [==============================] - 1s 87ms/step - loss: 0.0024 - val_loss: 0.0106\n",
      "Epoch 52/100\n",
      "8/8 [==============================] - 1s 87ms/step - loss: 0.0023 - val_loss: 0.0125\n",
      "Epoch 53/100\n",
      "8/8 [==============================] - 1s 86ms/step - loss: 0.0023 - val_loss: 0.0106\n",
      "Epoch 54/100\n",
      "8/8 [==============================] - 1s 85ms/step - loss: 0.0023 - val_loss: 0.0109\n",
      "Epoch 55/100\n",
      "8/8 [==============================] - 1s 86ms/step - loss: 0.0022 - val_loss: 0.0106\n",
      "Epoch 56/100\n",
      "8/8 [==============================] - 1s 86ms/step - loss: 0.0022 - val_loss: 0.0124\n",
      "Epoch 57/100\n",
      "8/8 [==============================] - 1s 87ms/step - loss: 0.0025 - val_loss: 0.0114\n",
      "Epoch 58/100\n",
      "8/8 [==============================] - 1s 85ms/step - loss: 0.0024 - val_loss: 0.0109\n",
      "Epoch 59/100\n",
      "8/8 [==============================] - 1s 86ms/step - loss: 0.0022 - val_loss: 0.0093\n",
      "Epoch 60/100\n",
      "8/8 [==============================] - 1s 86ms/step - loss: 0.0026 - val_loss: 0.0099\n",
      "Epoch 61/100\n",
      "8/8 [==============================] - 1s 86ms/step - loss: 0.0023 - val_loss: 0.0111\n",
      "Epoch 62/100\n",
      "8/8 [==============================] - 1s 88ms/step - loss: 0.0025 - val_loss: 0.0110\n",
      "Epoch 63/100\n",
      "8/8 [==============================] - 1s 92ms/step - loss: 0.0023 - val_loss: 0.0121\n",
      "Epoch 64/100\n",
      "8/8 [==============================] - 1s 89ms/step - loss: 0.0034 - val_loss: 0.0113\n",
      "Epoch 65/100\n",
      "8/8 [==============================] - 1s 88ms/step - loss: 0.0027 - val_loss: 0.0103\n",
      "Epoch 66/100\n",
      "8/8 [==============================] - 1s 90ms/step - loss: 0.0024 - val_loss: 0.0095\n",
      "Epoch 67/100\n",
      "8/8 [==============================] - 1s 90ms/step - loss: 0.0024 - val_loss: 0.0090\n",
      "Epoch 68/100\n",
      "8/8 [==============================] - 1s 87ms/step - loss: 0.0026 - val_loss: 0.0093\n",
      "Epoch 69/100\n",
      "8/8 [==============================] - 1s 88ms/step - loss: 0.0023 - val_loss: 0.0099\n",
      "Epoch 70/100\n",
      "8/8 [==============================] - 1s 88ms/step - loss: 0.0022 - val_loss: 0.0103\n",
      "Epoch 71/100\n",
      "8/8 [==============================] - 1s 87ms/step - loss: 0.0021 - val_loss: 0.0100\n",
      "Epoch 72/100\n",
      "8/8 [==============================] - 1s 85ms/step - loss: 0.0020 - val_loss: 0.0111\n",
      "Epoch 73/100\n",
      "8/8 [==============================] - 1s 86ms/step - loss: 0.0023 - val_loss: 0.0100\n",
      "Epoch 74/100\n",
      "8/8 [==============================] - 1s 84ms/step - loss: 0.0020 - val_loss: 0.0084\n",
      "Epoch 75/100\n",
      "8/8 [==============================] - 1s 85ms/step - loss: 0.0032 - val_loss: 0.0086\n",
      "Epoch 76/100\n",
      "8/8 [==============================] - 1s 86ms/step - loss: 0.0027 - val_loss: 0.0093\n",
      "Epoch 77/100\n",
      "8/8 [==============================] - 1s 86ms/step - loss: 0.0022 - val_loss: 0.0095\n",
      "Epoch 78/100\n",
      "8/8 [==============================] - 1s 86ms/step - loss: 0.0020 - val_loss: 0.0101\n",
      "Epoch 79/100\n",
      "8/8 [==============================] - 1s 85ms/step - loss: 0.0020 - val_loss: 0.0094\n",
      "Epoch 80/100\n",
      "8/8 [==============================] - 1s 89ms/step - loss: 0.0020 - val_loss: 0.0101\n",
      "Epoch 81/100\n",
      "8/8 [==============================] - 1s 86ms/step - loss: 0.0019 - val_loss: 0.0093\n",
      "Epoch 82/100\n",
      "8/8 [==============================] - 1s 87ms/step - loss: 0.0019 - val_loss: 0.0089\n",
      "Epoch 83/100\n",
      "8/8 [==============================] - 1s 87ms/step - loss: 0.0020 - val_loss: 0.0090\n"
     ]
    },
    {
     "name": "stdout",
     "output_type": "stream",
     "text": [
      "Epoch 84/100\n",
      "8/8 [==============================] - 1s 88ms/step - loss: 0.0019 - val_loss: 0.0083\n",
      "Epoch 85/100\n",
      "8/8 [==============================] - 1s 87ms/step - loss: 0.0020 - val_loss: 0.0086\n",
      "Epoch 86/100\n",
      "8/8 [==============================] - 1s 86ms/step - loss: 0.0019 - val_loss: 0.0083\n",
      "Epoch 87/100\n",
      "8/8 [==============================] - 1s 86ms/step - loss: 0.0020 - val_loss: 0.0082\n",
      "Epoch 88/100\n",
      "8/8 [==============================] - 1s 86ms/step - loss: 0.0020 - val_loss: 0.0090\n",
      "Epoch 89/100\n",
      "8/8 [==============================] - 1s 88ms/step - loss: 0.0019 - val_loss: 0.0093\n",
      "Epoch 90/100\n",
      "8/8 [==============================] - 1s 87ms/step - loss: 0.0021 - val_loss: 0.0093\n",
      "Epoch 91/100\n",
      "8/8 [==============================] - 1s 89ms/step - loss: 0.0020 - val_loss: 0.0100\n",
      "Epoch 92/100\n",
      "8/8 [==============================] - 1s 90ms/step - loss: 0.0020 - val_loss: 0.0106\n",
      "Epoch 93/100\n",
      "8/8 [==============================] - 1s 90ms/step - loss: 0.0023 - val_loss: 0.0105\n",
      "Epoch 94/100\n",
      "8/8 [==============================] - 1s 87ms/step - loss: 0.0023 - val_loss: 0.0106\n",
      "Epoch 95/100\n",
      "8/8 [==============================] - 1s 88ms/step - loss: 0.0025 - val_loss: 0.0093\n",
      "Epoch 96/100\n",
      "8/8 [==============================] - 1s 88ms/step - loss: 0.0020 - val_loss: 0.0090\n",
      "Epoch 97/100\n",
      "8/8 [==============================] - 1s 86ms/step - loss: 0.0019 - val_loss: 0.0081\n",
      "Epoch 98/100\n",
      "8/8 [==============================] - 1s 90ms/step - loss: 0.0017 - val_loss: 0.0077\n",
      "Epoch 99/100\n",
      "8/8 [==============================] - 1s 86ms/step - loss: 0.0018 - val_loss: 0.0079\n",
      "Epoch 100/100\n",
      "8/8 [==============================] - 1s 91ms/step - loss: 0.0017 - val_loss: 0.0077\n"
     ]
    },
    {
     "data": {
      "text/plain": [
       "<keras.callbacks.History at 0x29696936dc0>"
      ]
     },
     "execution_count": 9,
     "metadata": {},
     "output_type": "execute_result"
    }
   ],
   "source": [
    "priceModel.fit(df1XTrain,df1YTrain,validation_data=(df1XTest,df1YTest),epochs=100,batch_size=64,verbose=1)"
   ]
  },
  {
   "cell_type": "code",
   "execution_count": 10,
   "id": "109f6c18",
   "metadata": {
    "scrolled": true
   },
   "outputs": [
    {
     "name": "stdout",
     "output_type": "stream",
     "text": [
      "Epoch 1/100\n",
      "8/8 [==============================] - 4s 194ms/step - loss: 0.0083 - val_loss: 0.0102\n",
      "Epoch 2/100\n",
      "8/8 [==============================] - 1s 84ms/step - loss: 0.0047 - val_loss: 0.0101\n",
      "Epoch 3/100\n",
      "8/8 [==============================] - 1s 87ms/step - loss: 0.0044 - val_loss: 0.0097\n",
      "Epoch 4/100\n",
      "8/8 [==============================] - 1s 87ms/step - loss: 0.0042 - val_loss: 0.0097\n",
      "Epoch 5/100\n",
      "8/8 [==============================] - 1s 89ms/step - loss: 0.0039 - val_loss: 0.0098\n",
      "Epoch 6/100\n",
      "8/8 [==============================] - 1s 88ms/step - loss: 0.0039 - val_loss: 0.0098\n",
      "Epoch 7/100\n",
      "8/8 [==============================] - 1s 92ms/step - loss: 0.0039 - val_loss: 0.0098\n",
      "Epoch 8/100\n",
      "8/8 [==============================] - 1s 88ms/step - loss: 0.0040 - val_loss: 0.0097\n",
      "Epoch 9/100\n",
      "8/8 [==============================] - 1s 89ms/step - loss: 0.0043 - val_loss: 0.0097\n",
      "Epoch 10/100\n",
      "8/8 [==============================] - 1s 92ms/step - loss: 0.0039 - val_loss: 0.0095\n",
      "Epoch 11/100\n",
      "8/8 [==============================] - 1s 91ms/step - loss: 0.0039 - val_loss: 0.0095\n",
      "Epoch 12/100\n",
      "8/8 [==============================] - 1s 88ms/step - loss: 0.0039 - val_loss: 0.0096\n",
      "Epoch 13/100\n",
      "8/8 [==============================] - 1s 89ms/step - loss: 0.0040 - val_loss: 0.0096\n",
      "Epoch 14/100\n",
      "8/8 [==============================] - 1s 87ms/step - loss: 0.0039 - val_loss: 0.0095\n",
      "Epoch 15/100\n",
      "8/8 [==============================] - 1s 89ms/step - loss: 0.0039 - val_loss: 0.0095\n",
      "Epoch 16/100\n",
      "8/8 [==============================] - 1s 87ms/step - loss: 0.0039 - val_loss: 0.0093\n",
      "Epoch 17/100\n",
      "8/8 [==============================] - 1s 90ms/step - loss: 0.0039 - val_loss: 0.0093\n",
      "Epoch 18/100\n",
      "8/8 [==============================] - 1s 90ms/step - loss: 0.0038 - val_loss: 0.0092\n",
      "Epoch 19/100\n",
      "8/8 [==============================] - 1s 88ms/step - loss: 0.0038 - val_loss: 0.0092\n",
      "Epoch 20/100\n",
      "8/8 [==============================] - 1s 88ms/step - loss: 0.0038 - val_loss: 0.0091\n",
      "Epoch 21/100\n",
      "8/8 [==============================] - 1s 88ms/step - loss: 0.0038 - val_loss: 0.0090\n",
      "Epoch 22/100\n",
      "8/8 [==============================] - 1s 85ms/step - loss: 0.0038 - val_loss: 0.0089\n",
      "Epoch 23/100\n",
      "8/8 [==============================] - 1s 87ms/step - loss: 0.0038 - val_loss: 0.0089\n",
      "Epoch 24/100\n",
      "8/8 [==============================] - 1s 89ms/step - loss: 0.0037 - val_loss: 0.0089\n",
      "Epoch 25/100\n",
      "8/8 [==============================] - 1s 87ms/step - loss: 0.0038 - val_loss: 0.0089\n",
      "Epoch 26/100\n",
      "8/8 [==============================] - 1s 89ms/step - loss: 0.0037 - val_loss: 0.0089\n",
      "Epoch 27/100\n",
      "8/8 [==============================] - 1s 93ms/step - loss: 0.0037 - val_loss: 0.0088\n",
      "Epoch 28/100\n",
      "8/8 [==============================] - 1s 94ms/step - loss: 0.0038 - val_loss: 0.0088\n",
      "Epoch 29/100\n",
      "8/8 [==============================] - 1s 92ms/step - loss: 0.0037 - val_loss: 0.0088\n",
      "Epoch 30/100\n",
      "8/8 [==============================] - 1s 88ms/step - loss: 0.0036 - val_loss: 0.0089\n",
      "Epoch 31/100\n",
      "8/8 [==============================] - 1s 87ms/step - loss: 0.0037 - val_loss: 0.0089\n",
      "Epoch 32/100\n",
      "8/8 [==============================] - 1s 87ms/step - loss: 0.0036 - val_loss: 0.0088\n",
      "Epoch 33/100\n",
      "8/8 [==============================] - 1s 86ms/step - loss: 0.0038 - val_loss: 0.0086\n",
      "Epoch 34/100\n",
      "8/8 [==============================] - 1s 86ms/step - loss: 0.0037 - val_loss: 0.0087\n",
      "Epoch 35/100\n",
      "8/8 [==============================] - 1s 91ms/step - loss: 0.0036 - val_loss: 0.0086\n",
      "Epoch 36/100\n",
      "8/8 [==============================] - 1s 89ms/step - loss: 0.0036 - val_loss: 0.0087\n",
      "Epoch 37/100\n",
      "8/8 [==============================] - 1s 87ms/step - loss: 0.0036 - val_loss: 0.0085\n",
      "Epoch 38/100\n",
      "8/8 [==============================] - 1s 90ms/step - loss: 0.0034 - val_loss: 0.0083\n",
      "Epoch 39/100\n",
      "8/8 [==============================] - 1s 88ms/step - loss: 0.0034 - val_loss: 0.0082\n",
      "Epoch 40/100\n",
      "8/8 [==============================] - 1s 90ms/step - loss: 0.0035 - val_loss: 0.0082\n",
      "Epoch 41/100\n",
      "8/8 [==============================] - 1s 87ms/step - loss: 0.0033 - val_loss: 0.0081\n",
      "Epoch 42/100\n",
      "8/8 [==============================] - 1s 86ms/step - loss: 0.0033 - val_loss: 0.0081\n",
      "Epoch 43/100\n",
      "8/8 [==============================] - 1s 90ms/step - loss: 0.0033 - val_loss: 0.0080\n",
      "Epoch 44/100\n",
      "8/8 [==============================] - 1s 91ms/step - loss: 0.0033 - val_loss: 0.0080\n",
      "Epoch 45/100\n",
      "8/8 [==============================] - 1s 94ms/step - loss: 0.0033 - val_loss: 0.0081\n",
      "Epoch 46/100\n",
      "8/8 [==============================] - 1s 88ms/step - loss: 0.0033 - val_loss: 0.0080\n",
      "Epoch 47/100\n",
      "8/8 [==============================] - 1s 90ms/step - loss: 0.0033 - val_loss: 0.0082\n",
      "Epoch 48/100\n",
      "8/8 [==============================] - 1s 90ms/step - loss: 0.0033 - val_loss: 0.0081\n",
      "Epoch 49/100\n",
      "8/8 [==============================] - 1s 89ms/step - loss: 0.0034 - val_loss: 0.0079\n",
      "Epoch 50/100\n",
      "8/8 [==============================] - 1s 90ms/step - loss: 0.0032 - val_loss: 0.0079\n",
      "Epoch 51/100\n",
      "8/8 [==============================] - 1s 88ms/step - loss: 0.0033 - val_loss: 0.0078\n",
      "Epoch 52/100\n",
      "8/8 [==============================] - 1s 88ms/step - loss: 0.0032 - val_loss: 0.0078\n",
      "Epoch 53/100\n",
      "8/8 [==============================] - 1s 87ms/step - loss: 0.0032 - val_loss: 0.0076\n",
      "Epoch 54/100\n",
      "8/8 [==============================] - 1s 85ms/step - loss: 0.0032 - val_loss: 0.0076\n",
      "Epoch 55/100\n",
      "8/8 [==============================] - 1s 87ms/step - loss: 0.0031 - val_loss: 0.0076\n",
      "Epoch 56/100\n",
      "8/8 [==============================] - 1s 85ms/step - loss: 0.0031 - val_loss: 0.0076\n",
      "Epoch 57/100\n",
      "8/8 [==============================] - 1s 86ms/step - loss: 0.0032 - val_loss: 0.0076\n",
      "Epoch 58/100\n",
      "8/8 [==============================] - 1s 85ms/step - loss: 0.0032 - val_loss: 0.0077\n",
      "Epoch 59/100\n",
      "8/8 [==============================] - 1s 86ms/step - loss: 0.0033 - val_loss: 0.0077\n",
      "Epoch 60/100\n",
      "8/8 [==============================] - 1s 94ms/step - loss: 0.0032 - val_loss: 0.0079\n",
      "Epoch 61/100\n",
      "8/8 [==============================] - 1s 87ms/step - loss: 0.0033 - val_loss: 0.0075\n",
      "Epoch 62/100\n",
      "8/8 [==============================] - 1s 88ms/step - loss: 0.0033 - val_loss: 0.0074\n",
      "Epoch 63/100\n",
      "8/8 [==============================] - 1s 89ms/step - loss: 0.0032 - val_loss: 0.0074\n",
      "Epoch 64/100\n",
      "8/8 [==============================] - 1s 87ms/step - loss: 0.0031 - val_loss: 0.0073\n",
      "Epoch 65/100\n",
      "8/8 [==============================] - 1s 86ms/step - loss: 0.0031 - val_loss: 0.0074\n",
      "Epoch 66/100\n",
      "8/8 [==============================] - 1s 86ms/step - loss: 0.0031 - val_loss: 0.0074\n",
      "Epoch 67/100\n",
      "8/8 [==============================] - 1s 87ms/step - loss: 0.0031 - val_loss: 0.0073\n",
      "Epoch 68/100\n",
      "8/8 [==============================] - 1s 87ms/step - loss: 0.0031 - val_loss: 0.0074\n",
      "Epoch 69/100\n",
      "8/8 [==============================] - 1s 88ms/step - loss: 0.0031 - val_loss: 0.0073\n",
      "Epoch 70/100\n",
      "8/8 [==============================] - 1s 86ms/step - loss: 0.0030 - val_loss: 0.0073\n",
      "Epoch 71/100\n",
      "8/8 [==============================] - 1s 88ms/step - loss: 0.0031 - val_loss: 0.0071\n",
      "Epoch 72/100\n",
      "8/8 [==============================] - 1s 87ms/step - loss: 0.0031 - val_loss: 0.0072\n",
      "Epoch 73/100\n",
      "8/8 [==============================] - 1s 87ms/step - loss: 0.0031 - val_loss: 0.0071\n",
      "Epoch 74/100\n",
      "8/8 [==============================] - 1s 86ms/step - loss: 0.0031 - val_loss: 0.0073\n",
      "Epoch 75/100\n",
      "8/8 [==============================] - 1s 85ms/step - loss: 0.0030 - val_loss: 0.0072\n",
      "Epoch 76/100\n",
      "8/8 [==============================] - 1s 87ms/step - loss: 0.0031 - val_loss: 0.0073\n",
      "Epoch 77/100\n",
      "8/8 [==============================] - 1s 88ms/step - loss: 0.0031 - val_loss: 0.0072\n",
      "Epoch 78/100\n",
      "8/8 [==============================] - 1s 87ms/step - loss: 0.0030 - val_loss: 0.0072\n",
      "Epoch 79/100\n",
      "8/8 [==============================] - 1s 86ms/step - loss: 0.0031 - val_loss: 0.0071\n",
      "Epoch 80/100\n",
      "8/8 [==============================] - 1s 87ms/step - loss: 0.0031 - val_loss: 0.0071\n",
      "Epoch 81/100\n",
      "8/8 [==============================] - 1s 86ms/step - loss: 0.0031 - val_loss: 0.0071\n",
      "Epoch 82/100\n",
      "8/8 [==============================] - 1s 86ms/step - loss: 0.0030 - val_loss: 0.0071\n",
      "Epoch 83/100\n",
      "8/8 [==============================] - 1s 87ms/step - loss: 0.0030 - val_loss: 0.0071\n"
     ]
    },
    {
     "name": "stdout",
     "output_type": "stream",
     "text": [
      "Epoch 84/100\n",
      "8/8 [==============================] - 1s 85ms/step - loss: 0.0030 - val_loss: 0.0071\n",
      "Epoch 85/100\n",
      "8/8 [==============================] - 1s 87ms/step - loss: 0.0030 - val_loss: 0.0072\n",
      "Epoch 86/100\n",
      "8/8 [==============================] - 1s 89ms/step - loss: 0.0031 - val_loss: 0.0071\n",
      "Epoch 87/100\n",
      "8/8 [==============================] - 1s 90ms/step - loss: 0.0036 - val_loss: 0.0078\n",
      "Epoch 88/100\n",
      "8/8 [==============================] - 1s 87ms/step - loss: 0.0032 - val_loss: 0.0072\n",
      "Epoch 89/100\n",
      "8/8 [==============================] - 1s 88ms/step - loss: 0.0031 - val_loss: 0.0072\n",
      "Epoch 90/100\n",
      "8/8 [==============================] - 1s 87ms/step - loss: 0.0030 - val_loss: 0.0069\n",
      "Epoch 91/100\n",
      "8/8 [==============================] - 1s 86ms/step - loss: 0.0030 - val_loss: 0.0070\n",
      "Epoch 92/100\n",
      "8/8 [==============================] - 1s 87ms/step - loss: 0.0030 - val_loss: 0.0069\n",
      "Epoch 93/100\n",
      "8/8 [==============================] - 1s 88ms/step - loss: 0.0030 - val_loss: 0.0069\n",
      "Epoch 94/100\n",
      "8/8 [==============================] - 1s 86ms/step - loss: 0.0030 - val_loss: 0.0069\n",
      "Epoch 95/100\n",
      "8/8 [==============================] - 1s 86ms/step - loss: 0.0030 - val_loss: 0.0069\n",
      "Epoch 96/100\n",
      "8/8 [==============================] - 1s 86ms/step - loss: 0.0030 - val_loss: 0.0069\n",
      "Epoch 97/100\n",
      "8/8 [==============================] - 1s 86ms/step - loss: 0.0030 - val_loss: 0.0069\n",
      "Epoch 98/100\n",
      "8/8 [==============================] - 1s 86ms/step - loss: 0.0030 - val_loss: 0.0069\n",
      "Epoch 99/100\n",
      "8/8 [==============================] - 1s 87ms/step - loss: 0.0030 - val_loss: 0.0069\n",
      "Epoch 100/100\n",
      "8/8 [==============================] - 1s 86ms/step - loss: 0.0030 - val_loss: 0.0069\n"
     ]
    },
    {
     "data": {
      "text/plain": [
       "<keras.callbacks.History at 0x2969e55d220>"
      ]
     },
     "execution_count": 10,
     "metadata": {},
     "output_type": "execute_result"
    }
   ],
   "source": [
    "volumeModel.fit(df2XTrain,df2YTrain,validation_data=(df2XTest,df2YTest),epochs=100,batch_size=64,verbose=1)"
   ]
  },
  {
   "cell_type": "code",
   "execution_count": 11,
   "id": "39b29958",
   "metadata": {},
   "outputs": [],
   "source": [
    "import tensorflow as tf\n",
    "\n",
    "df1TrainPredict=priceModel.predict(df1XTrain)\n",
    "df1TestPredict=priceModel.predict(df1XTest)\n",
    "\n",
    "df2TrainPredict=volumeModel.predict(df2XTrain)\n",
    "df2TestPredict=volumeModel.predict(df2XTest)\n",
    "\n",
    "##Transformback to original form\n",
    "df1TrainPredict=scalerPrice.inverse_transform(df1TrainPredict)\n",
    "df1TestPredict=scalerPrice.inverse_transform(df1TestPredict)\n",
    "\n",
    "df2TrainPredict=scalerVolume.inverse_transform(df2TrainPredict)\n",
    "df2TestPredict=scalerVolume.inverse_transform(df2TestPredict)"
   ]
  },
  {
   "cell_type": "code",
   "execution_count": 12,
   "id": "48d53893",
   "metadata": {},
   "outputs": [
    {
     "data": {
      "text/plain": [
       "40.82547518029299"
      ]
     },
     "execution_count": 12,
     "metadata": {},
     "output_type": "execute_result"
    }
   ],
   "source": [
    "import math\n",
    "from sklearn.metrics import mean_squared_error\n",
    "math.sqrt(mean_squared_error(df1YTrain,df1TrainPredict))"
   ]
  },
  {
   "cell_type": "code",
   "execution_count": 13,
   "id": "c12ee987",
   "metadata": {},
   "outputs": [
    {
     "data": {
      "text/plain": [
       "35.28085723288469"
      ]
     },
     "execution_count": 13,
     "metadata": {},
     "output_type": "execute_result"
    }
   ],
   "source": [
    "math.sqrt(mean_squared_error(df1YTest,df1TestPredict))"
   ]
  },
  {
   "cell_type": "code",
   "execution_count": 14,
   "id": "9c4d4108",
   "metadata": {},
   "outputs": [],
   "source": [
    "import matplotlib.pyplot as plt\n",
    "def plotting1(df, train, test, scalerType):\n",
    "    # shift train predictions for plotting\n",
    "    look_back=100\n",
    "    trainPredictPlot = np.empty_like(df)\n",
    "    trainPredictPlot[:, :] = np.nan\n",
    "    trainPredictPlot[look_back:len(train)+look_back, :] = train\n",
    "    # shift test predictions for plotting\n",
    "    testPredictPlot = np.empty_like(df1)\n",
    "    testPredictPlot[:, :] = np.nan\n",
    "    testPredictPlot[len(train)+(look_back*2)+1:len(df1)-1, :] = test\n",
    "    # plot baseline and predictions\n",
    "    plt.plot(scalerType.inverse_transform(df))\n",
    "    plt.plot(trainPredictPlot)\n",
    "    plt.plot(testPredictPlot)\n",
    "    plt.show()    "
   ]
  },
  {
   "cell_type": "code",
   "execution_count": 15,
   "id": "721c3859",
   "metadata": {},
   "outputs": [
    {
     "data": {
      "image/png": "[encoded data removed]",
      "text/plain": [
       "<Figure size 432x288 with 1 Axes>"
      ]
     },
     "metadata": {
      "needs_background": "light"
     },
     "output_type": "display_data"
    }
   ],
   "source": [
    "plotting1(df1, df1TrainPredict, df1TestPredict, scalerPrice)"
   ]
  },
  {
   "cell_type": "code",
   "execution_count": 16,
   "id": "499d4953",
   "metadata": {},
   "outputs": [
    {
     "data": {
      "image/png": "[encoded data removed]",
      "text/plain": [
       "<Figure size 432x288 with 1 Axes>"
      ]
     },
     "metadata": {
      "needs_background": "light"
     },
     "output_type": "display_data"
    }
   ],
   "source": [
    "plotting1(df2, df2TrainPredict, df2TestPredict, scalerVolume)"
   ]
  },
  {
   "cell_type": "code",
   "execution_count": 17,
   "id": "f2964e38",
   "metadata": {},
   "outputs": [
    {
     "data": {
      "text/plain": [
       "300"
      ]
     },
     "execution_count": 17,
     "metadata": {},
     "output_type": "execute_result"
    }
   ],
   "source": [
    "len(df1TestData)"
   ]
  },
  {
   "cell_type": "code",
   "execution_count": 18,
   "id": "0e373f92",
   "metadata": {
    "scrolled": true
   },
   "outputs": [],
   "source": [
    "def tempInput(testData):\n",
    "    xInput=testData[200:].reshape(1,-1)\n",
    "    tempInput=list(xInput)\n",
    "    tempInput=tempInput[0].tolist()\n",
    "    return tempInput, xInput\n",
    "    \n",
    "priceTempInput, priceInput = tempInput(df1TestData)\n",
    "volumeTempInput, volumeInput = tempInput(df2TestData)"
   ]
  },
  {
   "cell_type": "code",
   "execution_count": 19,
   "id": "cfb6a145",
   "metadata": {},
   "outputs": [
    {
     "data": {
      "text/plain": [
       "100"
      ]
     },
     "execution_count": 19,
     "metadata": {},
     "output_type": "execute_result"
    }
   ],
   "source": [
    "len(volumeTempInput)"
   ]
  },
  {
   "cell_type": "code",
   "execution_count": 20,
   "id": "6557c6aa",
   "metadata": {},
   "outputs": [
    {
     "name": "stdout",
     "output_type": "stream",
     "text": [
      "[0.28528875]\n",
      "101\n",
      "[[0.2852887511253357], [0.2837812304496765], [0.2840746343135834], [0.28576281666755676], [0.2884153723716736], [0.2916642129421234], [0.2952325642108917], [0.29893356561660767], [0.3026527464389801], [0.3063284754753113], [0.30993369221687317], [0.31346118450164795], [0.31691479682922363], [0.3203025758266449], [0.32363370060920715], [0.3269169330596924], [0.3301597237586975], [0.3333682715892792], [0.3365478813648224], [0.3397030532360077], [0.34283748269081116], [0.34595435857772827], [0.3490566909313202], [0.3521469831466675], [0.3552272319793701], [0.35829928517341614], [0.3613646328449249], [0.36442455649375916], [0.36748015880584717], [0.37053221464157104]]\n"
     ]
    }
   ],
   "source": [
    "from numpy import array\n",
    "\n",
    "priceOutput=[]\n",
    "n_steps=100\n",
    "i=0\n",
    "while(i<30):\n",
    "    \n",
    "    if(len(priceTempInput)>100):\n",
    "        priceInput=np.array(priceTempInput[1:])\n",
    "        priceInput=priceInput.reshape(1,-1)\n",
    "        priceInput = priceInput.reshape((1, n_steps, 1))\n",
    "        yhat = priceModel.predict(priceInput, verbose=0)\n",
    "        priceTempInput.extend(yhat[0].tolist())\n",
    "        priceTempInput=priceTempInput[1:]\n",
    "        priceOutput.extend(yhat.tolist())\n",
    "        i=i+1\n",
    "    else:\n",
    "        priceInput = priceInput.reshape((1, n_steps,1))\n",
    "        yhat = priceModel.predict(priceInput, verbose=0)\n",
    "        print(yhat[0])\n",
    "        priceTempInput.extend(yhat[0].tolist())\n",
    "        print(len(priceTempInput))\n",
    "        priceOutput.extend(yhat.tolist())\n",
    "        i=i+1\n",
    "    \n",
    "\n",
    "print(priceOutput)"
   ]
  },
  {
   "cell_type": "code",
   "execution_count": 21,
   "id": "8a816436",
   "metadata": {},
   "outputs": [
    {
     "name": "stdout",
     "output_type": "stream",
     "text": [
      "[0.07940005]\n",
      "101\n",
      "[[0.07940004765987396], [0.0806509330868721], [0.08208606392145157], [0.08335810154676437], [0.08442265540361404], [0.08533994853496552], [0.08618410676717758], [0.08701750636100769], [0.08788542449474335], [0.08881563693284988], [0.08982031047344208], [0.09089940041303635], [0.09204395860433578], [0.0932396948337555], [0.09447000920772552], [0.09571835398674011], [0.09697000682353973], [0.0982130765914917], [0.0994388610124588], [0.10064175724983215], [0.10181904584169388], [0.1029701828956604], [0.10409630089998245], [0.10519950091838837], [0.1062823086977005], [0.10734730958938599], [0.10839681327342987], [0.10943262279033661], [0.11045613139867783], [0.1114681139588356]]\n"
     ]
    }
   ],
   "source": [
    "volumeOutput=[]\n",
    "n_steps=100\n",
    "i=0\n",
    "while(i<30):\n",
    "    \n",
    "    if(len(volumeTempInput)>100):\n",
    "        volumeInput=np.array(volumeTempInput[1:])\n",
    "        volumeInput=volumeInput.reshape(1,-1)\n",
    "        volumeInput = volumeInput.reshape((1, n_steps, 1))\n",
    "        yhat = volumeModel.predict(volumeInput, verbose=0)\n",
    "        volumeTempInput.extend(yhat[0].tolist())\n",
    "        volumeTempInput=volumeTempInput[1:]\n",
    "        volumeOutput.extend(yhat.tolist())\n",
    "        i=i+1\n",
    "    else:\n",
    "        volumeInput = volumeInput.reshape((1, n_steps,1))\n",
    "        yhat = volumeModel.predict(volumeInput, verbose=0)\n",
    "        print(yhat[0])\n",
    "        volumeTempInput.extend(yhat[0].tolist())\n",
    "        print(len(volumeTempInput))\n",
    "        volumeOutput.extend(yhat.tolist())\n",
    "        i=i+1\n",
    "    \n",
    "\n",
    "print(volumeOutput)"
   ]
  },
  {
   "cell_type": "code",
   "execution_count": 22,
   "id": "8fe9d1f6",
   "metadata": {},
   "outputs": [],
   "source": [
    "day_new=np.arange(1,101)\n",
    "day_pred=np.arange(101,131)"
   ]
  },
  {
   "cell_type": "code",
   "execution_count": 23,
   "id": "73678fd8",
   "metadata": {},
   "outputs": [
    {
     "data": {
      "text/plain": [
       "[<matplotlib.lines.Line2D at 0x296b051c880>]"
      ]
     },
     "execution_count": 23,
     "metadata": {},
     "output_type": "execute_result"
    },
    {
     "data": {
      "image/png": "[encoded data removed]",
      "text/plain": [
       "<Figure size 432x288 with 1 Axes>"
      ]
     },
     "metadata": {
      "needs_background": "light"
     },
     "output_type": "display_data"
    }
   ],
   "source": [
    "import matplotlib.pyplot as plt\n",
    "plt.plot(day_new,scalerPrice.inverse_transform(df1[757:]))\n",
    "plt.plot(day_pred,scalerPrice.inverse_transform(priceOutput))"
   ]
  },
  {
   "cell_type": "code",
   "execution_count": 24,
   "id": "a26fc89b",
   "metadata": {},
   "outputs": [
    {
     "data": {
      "text/plain": [
       "[<matplotlib.lines.Line2D at 0x296b048ab80>]"
      ]
     },
     "execution_count": 24,
     "metadata": {},
     "output_type": "execute_result"
    },
    {
     "data": {
      "image/png": "[encoded data removed]",
      "text/plain": [
       "<Figure size 432x288 with 1 Axes>"
      ]
     },
     "metadata": {
      "needs_background": "light"
     },
     "output_type": "display_data"
    }
   ],
   "source": [
    "import matplotlib.pyplot as plt\n",
    "plt.plot(day_new,scalerVolume.inverse_transform(df2[757:]))\n",
    "plt.plot(day_pred,scalerVolume.inverse_transform(volumeOutput))"
   ]
  },
  {
   "cell_type": "code",
   "execution_count": null,
   "id": "b8a26bd4",
   "metadata": {},
   "outputs": [],
   "source": []
  }
 ],
 "metadata": {
  "kernelspec": {
   "display_name": "Python 3 (ipykernel)",
   "language": "python",
   "name": "python3"
  },
  "language_info": {
   "codemirror_mode": {
    "name": "ipython",
    "version": 3
   },
   "file_extension": ".py",
   "mimetype": "text/x-python",
   "name": "python",
   "nbconvert_exporter": "python",
   "pygments_lexer": "ipython3",
   "version": "3.8.10"
  }
 },
 "nbformat": 4,
 "nbformat_minor": 5
}
